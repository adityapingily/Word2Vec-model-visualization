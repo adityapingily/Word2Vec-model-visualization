{
 "cells": [
  {
   "cell_type": "code",
   "execution_count": 1,
   "metadata": {},
   "outputs": [
    {
     "name": "stderr",
     "output_type": "stream",
     "text": [
      "c:\\users\\shreyansh singh\\appdata\\local\\programs\\python\\python35\\lib\\site-packages\\gensim\\utils.py:860: UserWarning: detected Windows; aliasing chunkize to chunkize_serial\n",
      "  warnings.warn(\"detected Windows; aliasing chunkize to chunkize_serial\")\n",
      "2017-08-06 14:55:52,896 : INFO : 'pattern' package not found; tag filters are not available for English\n"
     ]
    }
   ],
   "source": [
    "import logging\n",
    "logging.basicConfig(format='%(asctime)s : %(levelname)s : %(message)s', level=logging.INFO)\n",
    "\n",
    "from gensim.summarization import summarize"
   ]
  },
  {
   "cell_type": "code",
   "execution_count": 2,
   "metadata": {},
   "outputs": [],
   "source": [
    "text = '''Shah Rukh Khan (born Shahrukh Khan; 2 November 1965), also known as SRK, is an Indian film actor, producer and television personality. Referred to in the media as the \"Baadshah of Bollywood\", \"King of Bollywood\" or \"King Khan\", he has appeared in more than 80 Bollywood films, and earned numerous accolades, including 14 Filmfare Awards. Khan has a significant following in Asia and the Indian diaspora worldwide. In terms of audience size and income, he has been described as one of the most successful film stars in the world. Khan began his career with appearances in several television series in the late 1980s. He made his Bollywood debut in 1992 with Deewana. Early in his career, Khan was recognised for portraying villainous roles in the films Darr (1993), Baazigar (1993) and Anjaam (1994). He then rose to prominence after starring in a series of romantic films, including Dilwale Dulhania Le Jayenge (1995), Dil To Pagal Hai (1997), Kuch Kuch Hota Hai (1998), Mohabbatein (2000) and Kabhi Khushi Kabhie Gham... (2001). He earned critical acclaim for his portrayal of an alcoholic in Devdas (2002), a NASA scientist in Swades (2004), a hockey coach in Chak De! India (2007) and a man with Asperger syndrome in My Name Is Khan (2010). His highest-grossing films include the comedies Chennai Express (2013) and Happy New Year (2014). Many of his films display themes of Indian national identity and connections with diaspora communities, or gender, racial, social and religious differences and grievances. For his contributions to film, the Government of India honoured him with the Padma Shri, and the Government of France awarded him both the Ordre des Arts et des Lettres and the Légion d'honneur. As of 2015, Khan is co-chairman of the motion picture production company Red Chillies Entertainment and its subsidiaries, and is the co-owner of the Indian Premier League cricket team Kolkata Knight Riders. He is a frequent television presenter and stage show performer. The media often label him as \"Brand SRK\" because of his many endorsement and entrepreneurship ventures. Khan's philanthropic endeavours have provided health care and disaster relief, and he was honoured with UNESCO's Pyramide con Marni award in 2011 for his support of children's education. He regularly features in listings of the most influential people in Indian culture, and in 2008, Newsweek named him one of their fifty most powerful people in the world.'''"
   ]
  },
  {
   "cell_type": "code",
   "execution_count": 3,
   "metadata": {},
   "outputs": [
    {
     "name": "stdout",
     "output_type": "stream",
     "text": [
      "Input Text:\n",
      "Shah Rukh Khan (born Shahrukh Khan; 2 November 1965), also known as SRK, is an Indian film actor, producer and television personality. Referred to in the media as the \"Baadshah of Bollywood\", \"King of Bollywood\" or \"King Khan\", he has appeared in more than 80 Bollywood films, and earned numerous accolades, including 14 Filmfare Awards. Khan has a significant following in Asia and the Indian diaspora worldwide. In terms of audience size and income, he has been described as one of the most successful film stars in the world. Khan began his career with appearances in several television series in the late 1980s. He made his Bollywood debut in 1992 with Deewana. Early in his career, Khan was recognised for portraying villainous roles in the films Darr (1993), Baazigar (1993) and Anjaam (1994). He then rose to prominence after starring in a series of romantic films, including Dilwale Dulhania Le Jayenge (1995), Dil To Pagal Hai (1997), Kuch Kuch Hota Hai (1998), Mohabbatein (2000) and Kabhi Khushi Kabhie Gham... (2001). He earned critical acclaim for his portrayal of an alcoholic in Devdas (2002), a NASA scientist in Swades (2004), a hockey coach in Chak De! India (2007) and a man with Asperger syndrome in My Name Is Khan (2010). His highest-grossing films include the comedies Chennai Express (2013) and Happy New Year (2014). Many of his films display themes of Indian national identity and connections with diaspora communities, or gender, racial, social and religious differences and grievances. For his contributions to film, the Government of India honoured him with the Padma Shri, and the Government of France awarded him both the Ordre des Arts et des Lettres and the Légion d'honneur. As of 2015, Khan is co-chairman of the motion picture production company Red Chillies Entertainment and its subsidiaries, and is the co-owner of the Indian Premier League cricket team Kolkata Knight Riders. He is a frequent television presenter and stage show performer. The media often label him as \"Brand SRK\" because of his many endorsement and entrepreneurship ventures. Khan's philanthropic endeavours have provided health care and disaster relief, and he was honoured with UNESCO's Pyramide con Marni award in 2011 for his support of children's education. He regularly features in listings of the most influential people in Indian culture, and in 2008, Newsweek named him one of their fifty most powerful people in the world.\n"
     ]
    }
   ],
   "source": [
    "print(\"Input Text:\")\n",
    "print(text)"
   ]
  },
  {
   "cell_type": "code",
   "execution_count": 4,
   "metadata": {},
   "outputs": [
    {
     "name": "stderr",
     "output_type": "stream",
     "text": [
      "2017-08-06 14:55:53,355 : INFO : adding document #0 to Dictionary(0 unique tokens: [])\n",
      "2017-08-06 14:55:53,360 : INFO : built Dictionary(164 unique tokens: ['owner', 'educ', 'newsweek', 'connect', 'compani']...) from 18 documents (total 210 corpus positions)\n"
     ]
    },
    {
     "name": "stdout",
     "output_type": "stream",
     "text": [
      "Summary:\n",
      "Shah Rukh Khan (born Shahrukh Khan; 2 November 1965), also known as SRK, is an Indian film actor, producer and television personality.\n",
      "Referred to in the media as the \"Baadshah of Bollywood\", \"King of Bollywood\" or \"King Khan\", he has appeared in more than 80 Bollywood films, and earned numerous accolades, including 14 Filmfare Awards.\n",
      "Khan began his career with appearances in several television series in the late 1980s.\n"
     ]
    }
   ],
   "source": [
    "print(\"Summary:\")\n",
    "print(summarize(text))"
   ]
  },
  {
   "cell_type": "code",
   "execution_count": 5,
   "metadata": {},
   "outputs": [
    {
     "name": "stderr",
     "output_type": "stream",
     "text": [
      "2017-08-06 14:55:53,527 : INFO : adding document #0 to Dictionary(0 unique tokens: [])\n",
      "2017-08-06 14:55:53,531 : INFO : built Dictionary(164 unique tokens: ['owner', 'educ', 'newsweek', 'connect', 'compani']...) from 18 documents (total 210 corpus positions)\n"
     ]
    },
    {
     "name": "stdout",
     "output_type": "stream",
     "text": [
      "Shah Rukh Khan (born Shahrukh Khan; 2 November 1965), also known as SRK, is an Indian film actor, producer and television personality.\n",
      "Referred to in the media as the \"Baadshah of Bollywood\", \"King of Bollywood\" or \"King Khan\", he has appeared in more than 80 Bollywood films, and earned numerous accolades, including 14 Filmfare Awards.\n",
      "Khan has a significant following in Asia and the Indian diaspora worldwide.\n",
      "Khan began his career with appearances in several television series in the late 1980s.\n",
      "He then rose to prominence after starring in a series of romantic films, including Dilwale Dulhania Le Jayenge (1995), Dil To Pagal Hai (1997), Kuch Kuch Hota Hai (1998), Mohabbatein (2000) and Kabhi Khushi Kabhie Gham...\n",
      "Many of his films display themes of Indian national identity and connections with diaspora communities, or gender, racial, social and religious differences and grievances.\n",
      "For his contributions to film, the Government of India honoured him with the Padma Shri, and the Government of France awarded him both the Ordre des Arts et des Lettres and the Légion d'honneur.\n",
      "As of 2015, Khan is co-chairman of the motion picture production company Red Chillies Entertainment and its subsidiaries, and is the co-owner of the Indian Premier League cricket team Kolkata Knight Riders.\n",
      "Khan's philanthropic endeavours have provided health care and disaster relief, and he was honoured with UNESCO's Pyramide con Marni award in 2011 for his support of children's education.\n"
     ]
    }
   ],
   "source": [
    "print(summarize(text, ratio=0.5))"
   ]
  },
  {
   "cell_type": "code",
   "execution_count": 6,
   "metadata": {},
   "outputs": [
    {
     "name": "stderr",
     "output_type": "stream",
     "text": [
      "2017-08-06 14:55:53,718 : INFO : adding document #0 to Dictionary(0 unique tokens: [])\n",
      "2017-08-06 14:55:53,723 : INFO : built Dictionary(164 unique tokens: ['owner', 'educ', 'newsweek', 'connect', 'compani']...) from 18 documents (total 210 corpus positions)\n"
     ]
    },
    {
     "name": "stdout",
     "output_type": "stream",
     "text": [
      "Shah Rukh Khan (born Shahrukh Khan; 2 November 1965), also known as SRK, is an Indian film actor, producer and television personality.\n",
      "Referred to in the media as the \"Baadshah of Bollywood\", \"King of Bollywood\" or \"King Khan\", he has appeared in more than 80 Bollywood films, and earned numerous accolades, including 14 Filmfare Awards.\n",
      "Khan began his career with appearances in several television series in the late 1980s.\n",
      "He then rose to prominence after starring in a series of romantic films, including Dilwale Dulhania Le Jayenge (1995), Dil To Pagal Hai (1997), Kuch Kuch Hota Hai (1998), Mohabbatein (2000) and Kabhi Khushi Kabhie Gham...\n"
     ]
    }
   ],
   "source": [
    "print(summarize(text, word_count=100))"
   ]
  },
  {
   "cell_type": "code",
   "execution_count": 7,
   "metadata": {},
   "outputs": [
    {
     "name": "stdout",
     "output_type": "stream",
     "text": [
      "Keywords:\n",
      "films\n",
      "khan\n",
      "indian film\n",
      "television\n",
      "des\n",
      "awards\n",
      "awarded\n",
      "award\n",
      "including\n",
      "include\n",
      "diaspora\n",
      "kabhi\n",
      "kabhie\n",
      "health\n",
      "racial\n",
      "chennai\n",
      "people\n",
      "new\n",
      "villainous\n",
      "hai\n",
      "bollywood\n",
      "personality\n",
      "chillies\n",
      "knight\n",
      "critical\n",
      "picture production company\n",
      "red\n"
     ]
    }
   ],
   "source": [
    "from gensim.summarization import keywords\n",
    "\n",
    "print('Keywords:')\n",
    "print(keywords(text))"
   ]
  },
  {
   "cell_type": "code",
   "execution_count": 8,
   "metadata": {},
   "outputs": [
    {
     "name": "stderr",
     "output_type": "stream",
     "text": [
      "2017-08-06 14:56:07,518 : INFO : adding document #0 to Dictionary(0 unique tokens: [])\n",
      "2017-08-06 14:56:07,528 : INFO : built Dictionary(1093 unique tokens: ['help', 'counterweight', 'deduc', 'bai', 'join']...) from 416 documents (total 2985 corpus positions)\n"
     ]
    },
    {
     "name": "stdout",
     "output_type": "stream",
     "text": [
      "Summary:\n",
      "Anderson, a software engineer for a Metacortex, the other life as Neo, a computer hacker \"guilty of virtually every computer crime we have a law for.\" Agent Smith asks him to help them capture Morpheus, a dangerous terrorist, in exchange for amnesty.\n",
      "Morpheus explains that he's been searching for Neo his entire life and asks if Neo feels like \"Alice in Wonderland, falling down the rabbit hole.\" He explains to Neo that they exist in the Matrix, a false reality that has been constructed for humans to hide the truth.\n",
      "Neo is introduced to Morpheus's crew including Trinity; Apoc (Julian Arahanga), a man with long, flowing black hair; Switch; Cypher (bald with a goatee); two brawny brothers, Tank (Marcus Chong) and Dozer (Anthony Ray Parker); and a young, thin man named Mouse (Matt Doran).\n",
      "Cypher cuts up a juicy steak and ruminates that he knows the steak is merely the simulation telling his brain that it is delicious and juicy, but after nine years he has discovered that \"ignorance is bliss.\" He strikes a deal for the machines to reinsert his body into a power plant, reinsert him into the Matrix, and he'll help the Agents.\n",
      "\n",
      "Keywords:\n",
      "neo\n",
      "morpheus\n",
      "trinity\n",
      "cypher\n",
      "agents\n",
      "agent\n",
      "smith\n",
      "tank\n",
      "says\n",
      "saying\n"
     ]
    }
   ],
   "source": [
    "import requests\n",
    "\n",
    "text = requests.get('http://rare-technologies.com/the_matrix_synopsis.txt').text\n",
    "\n",
    "print('Summary:')\n",
    "print(summarize(text, ratio=0.01))\n",
    "\n",
    "print('\\nKeywords:')\n",
    "print(keywords(text, ratio=0.01))"
   ]
  },
  {
   "cell_type": "code",
   "execution_count": 11,
   "metadata": {},
   "outputs": [
    {
     "name": "stderr",
     "output_type": "stream",
     "text": [
      "2017-08-06 14:56:29,864 : INFO : adding document #0 to Dictionary(0 unique tokens: [])\n",
      "2017-08-06 14:56:29,871 : INFO : built Dictionary(1054 unique tokens: ['scrambl', 'store', 'highwai', 'artist', 'ambul']...) from 227 documents (total 2434 corpus positions)\n"
     ]
    },
    {
     "name": "stdout",
     "output_type": "stream",
     "text": [
      "Summary:\n",
      "The answering machine records a woman introducing herself as Maude Lebowski and saying that she is the one who took his rug and has sent a car to pick Dude up at his apartment.\n",
      "As he climbs out of bed to make a White Russian, Maude asks about the apartment and Dude explains that Treehorn's thugs most likely vandalized it looking for Lebowski's money.\n",
      "\n",
      "Keywords:\n",
      "dude\n",
      "dudes\n",
      "walter\n",
      "lebowski\n",
      "brandt\n",
      "maude\n",
      "donny\n",
      "bunny\n"
     ]
    }
   ],
   "source": [
    "import requests\n",
    "\n",
    "text = requests.get('http://rare-technologies.com/the_big_lebowski_synopsis.txt').text\n",
    "\n",
    "print('Summary:')\n",
    "print(summarize(text, ratio=0.01))\n",
    "\n",
    "print('\\nKeywords:')\n",
    "print(keywords(text, ratio=0.01))"
   ]
  },
  {
   "cell_type": "code",
   "execution_count": null,
   "metadata": {
    "collapsed": true
   },
   "outputs": [],
   "source": []
  }
 ],
 "metadata": {
  "kernelspec": {
   "display_name": "Python 3",
   "language": "python",
   "name": "python3"
  },
  "language_info": {
   "codemirror_mode": {
    "name": "ipython",
    "version": 3
   },
   "file_extension": ".py",
   "mimetype": "text/x-python",
   "name": "python",
   "nbconvert_exporter": "python",
   "pygments_lexer": "ipython3",
   "version": "3.7.1"
  }
 },
 "nbformat": 4,
 "nbformat_minor": 2
}
